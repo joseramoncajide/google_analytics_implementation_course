{
 "cells": [
  {
   "cell_type": "markdown",
   "metadata": {},
   "source": [
    "# Implementación técnica de Google Analytics con Google Tag Manager"
   ]
  },
  {
   "cell_type": "markdown",
   "metadata": {},
   "source": [
    "<img src=\"img/keywords.png\">"
   ]
  },
  {
   "cell_type": "markdown",
   "metadata": {
    "nbpresent": {
     "id": "6ea54f52-e031-4ca9-9937-e1aa253e057e"
    },
    "slideshow": {
     "slide_type": "slide"
    }
   },
   "source": [
    "## Google Analytics: protocolo de medición\n",
    "\n",
    "- Un conjunto de reglas estándar para recopilar y enviar visitas desde cualquier dispositivo conectado a Internet a Analytics.\n",
    "- El protocolo de medición de Google Analytics permite a los programadores realizar **solicitudes HTTP** para enviar datos de interacción de usuario sin procesar, directamente a los servidores de Google Analytics (Más pro)\n",
    "\n",
    "Enlaces:\n",
    "- [Hit Builder](https://ga-dev-tools.appspot.com/hit-builder/)\n",
    "- [Descripción general del Protocolo de medición](https://developers.google.com/analytics/devguides/collection/protocol/v1/)\n",
    "- [Validar hits: Protocolo de medición](https://developers.google.com/analytics/devguides/collection/protocol/v1/validating-hits)"
   ]
  },
  {
   "cell_type": "markdown",
   "metadata": {
    "nbpresent": {
     "id": "04c97ee2-cce0-445a-b76e-c63d7eec72b4"
    },
    "slideshow": {
     "slide_type": "slide"
    }
   },
   "source": [
    "### ¿A dónde envío los datos?\n",
    "\n",
    "- Google Analytics dispone de un *extremo* o *endpoint* para recibir la información mediante hits.\n",
    "\n",
    "```\n",
    "POST /collect HTTP/1.1\n",
    "Host: www.google-analytics.com\n",
    "```\n",
    "\n",
    "- A dicho *endpoint* debemos enviar la información mínima requerida y en el formato especificado para que el hit sea validado correctamente por el servidor de Analytics."
   ]
  },
  {
   "cell_type": "markdown",
   "metadata": {
    "nbpresent": {
     "id": "1ee0e2dd-6b8b-44d2-90ec-7ff88ebae3d9"
    },
    "slideshow": {
     "slide_type": "slide"
    }
   },
   "source": [
    "**Tipos de hits:**\n",
    "\n",
    "- Seguimiento de páginas: `t=pageview`\n",
    "- Seguimiento de eventos: `t=event`\n",
    "- Seguimiento de transacciones (No EEC): `t=transaction`\n",
    "- Seguimiento de artículos (No EEC): `t=item`\n",
    "- Seguimiento de interacciones sociales: `t=social`\n",
    "- Seguimiento de interacciones excepciones o errores de javascript: `t=exception`\n",
    "- Seguimiento de tiempos de usuario: `t=timing`\n",
    "- Seguimiento en la aplicación o en la pantalla (Mobile): `t=screenview` \n",
    "\n",
    "> No existe un hit específico para el envío de la información de Comercio Electrónico Mejorado. La información se anexa a cualquier otro hit (excepto el de transacciones `t=transaction` y el de artículos `t=item`)"
   ]
  },
  {
   "cell_type": "markdown",
   "metadata": {
    "nbpresent": {
     "id": "d69ecb8a-4198-4c89-8992-be7e00ace145"
    },
    "slideshow": {
     "slide_type": "slide"
    }
   },
   "source": [
    "### Como se envía un hit\n",
    "\n",
    "Lo más habitual en hacerlo mediante el uso de tags.\n",
    "\n",
    "> Tag: pequeño trozo de código, de apenas unas líneas, que es colocado en una o varias páginas web con el fin de realizar la acción para la cual ha sido diseñado.\n",
    "\n",
    "\n",
    "### Envío con Javascript de un hit de página vista a Analytics haciendo uso del protocolo de medición.\n",
    "\n",
    "- No estamos empleando ninguna librería Javascript.\n",
    "- Empleamos funciones Javascript disponibles en todos los navegadores.\n",
    "- Configuramos el hit de forma manual\n",
    "\n",
    "> Ejecuta el siguiente código en la consola. ¿Cuál es la respuesta?"
   ]
  },
  {
   "cell_type": "code",
   "execution_count": 17,
   "metadata": {
    "collapsed": false,
    "nbpresent": {
     "id": "74245f87-6309-48d5-9186-e60fbeaf7cc2"
    },
    "slideshow": {
     "slide_type": "fragment"
    }
   },
   "outputs": [
    {
     "data": {
      "application/javascript": [
       "var xhr = new XMLHttpRequest();\n",
       "xhr.open(\"POST\", 'http://www.google-analytics.com/collect?v=1&tid=UA-62172390-1&cid=1234567&t=pageview&dp=%2Fhome', true);\n",
       "xhr.send(null);"
      ],
      "text/plain": [
       "<IPython.core.display.Javascript object>"
      ]
     },
     "metadata": {},
     "output_type": "display_data"
    }
   ],
   "source": [
    "%%javascript \n",
    "var xhr = new XMLHttpRequest();\n",
    "xhr.open(\"POST\", 'http://www.google-analytics.com/collect?v=1&tid=UA-62172390-1&cid=1234567&t=pageview&dp=%2Fhome', true);\n",
    "xhr.send(null);"
   ]
  },
  {
   "cell_type": "markdown",
   "metadata": {
    "nbpresent": {
     "id": "feecda82-f3cf-4755-8879-462e9c34826e"
    },
    "slideshow": {
     "slide_type": "slide"
    }
   },
   "source": [
    "- Google Analytics dispone de un servidor de validación del protocolo de medición. Su *endpoint* es:\n",
    "\n",
    "```\n",
    "POST /debug/collect HTTP/1.1\n",
    "Host: www.google-analytics.com\n",
    "```\n",
    "\n",
    "> Vamos a enviar el siguiente hit y auditarlo en la consola mirando su respuesta:"
   ]
  },
  {
   "cell_type": "code",
   "execution_count": null,
   "metadata": {
    "collapsed": false,
    "nbpresent": {
     "id": "490ebe1e-0927-4d86-8a22-b2df2344412b"
    }
   },
   "outputs": [],
   "source": [
    "%%javascript \n",
    "var xhr = new XMLHttpRequest();\n",
    "xhr.open(\"POST\", 'http://www.google-analytics.com/debug/collect?v=1&tid=UA-62172390-1&cid=1234567&t=pageview', true);\n",
    "xhr.send(null);"
   ]
  },
  {
   "cell_type": "markdown",
   "metadata": {
    "nbpresent": {
     "id": "c2d3602b-e28a-4369-9bfd-e74a616272a9"
    }
   },
   "source": [
    "Podemos obtener la respuesta que nos envía el servidor de Analytics para su procesamiento"
   ]
  },
  {
   "cell_type": "code",
   "execution_count": 18,
   "metadata": {
    "collapsed": false,
    "nbpresent": {
     "id": "df3eead0-1cd8-4053-b5a3-181e51a66fd6"
    }
   },
   "outputs": [
    {
     "data": {
      "application/javascript": [
       "var xhr = new XMLHttpRequest();\n",
       "xhr.onreadystatechange = function() {\n",
       "    if (xhr.readyState == XMLHttpRequest.DONE) {\n",
       "        console.log(xhr.responseText);\n",
       "    }\n",
       "}\n",
       "xhr.open(\"POST\", 'http://www.google-analytics.com/debug/collect?v=1&tid=UA-62172390-1&cid=1234567&t=pageview', true);\n",
       "xhr.send(null);"
      ],
      "text/plain": [
       "<IPython.core.display.Javascript object>"
      ]
     },
     "metadata": {},
     "output_type": "display_data"
    }
   ],
   "source": [
    "%%javascript\n",
    "var xhr = new XMLHttpRequest();\n",
    "xhr.onreadystatechange = function() {\n",
    "    if (xhr.readyState == XMLHttpRequest.DONE) {\n",
    "        console.log(xhr.responseText);\n",
    "    }\n",
    "}\n",
    "xhr.open(\"POST\", 'http://www.google-analytics.com/debug/collect?v=1&tid=UA-62172390-1&cid=1234567&t=pageview', true);\n",
    "xhr.send(null);"
   ]
  },
  {
   "cell_type": "markdown",
   "metadata": {
    "nbpresent": {
     "id": "07f79886-bf1b-46dd-8ca3-83a21983a33a"
    }
   },
   "source": [
    "### analytics.js: La librería JavaScript empleada por Google Analytics para medir cómo interactúan los usuarios con un sitio web\n",
    "\n",
    "Esto es una visión minimalista de lo que realiza la librería de Google Analytics al insertarla en un página web:\n",
    "\n",
    "```\n",
    "<script>\n",
    "  (function(i,s,o,g,r,a,m){i['GoogleAnalyticsObject']=r;i[r]=i[r]||function(){\n",
    "  (i[r].q=i[r].q||[]).push(arguments)},i[r].l=1*new Date();a=s.createElement(o),\n",
    "  m=s.getElementsByTagName(o)[0];a.async=1;a.src=g;m.parentNode.insertBefore(a,m)\n",
    "  })(window,document,'script','https://www.google-analytics.com/analytics.js','ga');\n",
    "  ga('create', 'UA-62172390-1', 'auto');\n",
    "  ga('send', 'pageview');\n",
    "</script>\n",
    "\n",
    "```\n",
    "\n",
    "\n",
    "### Vamos a crear nuestro propio tag de medición básica\n",
    "\n",
    "Haciendo uso de Javascript es posible acceder a toda la información que nos proporciona el navegador del usuario:"
   ]
  },
  {
   "cell_type": "code",
   "execution_count": 19,
   "metadata": {
    "collapsed": false,
    "nbpresent": {
     "id": "eb9bebe9-6d4d-477f-946d-1ee2a16c2f93"
    }
   },
   "outputs": [
    {
     "data": {
      "application/javascript": [
       "// Dominio del usuario\n",
       "console.log(window.location.hostname)"
      ],
      "text/plain": [
       "<IPython.core.display.Javascript object>"
      ]
     },
     "metadata": {},
     "output_type": "display_data"
    }
   ],
   "source": [
    "%%javascript\n",
    "// Dominio del usuario\n",
    "console.log(window.location.hostname)"
   ]
  },
  {
   "cell_type": "code",
   "execution_count": 20,
   "metadata": {
    "collapsed": false,
    "nbpresent": {
     "id": "1a78aebd-66f1-4128-891f-a26331cd65c0"
    }
   },
   "outputs": [
    {
     "data": {
      "application/javascript": [
       "// Página por la que navega el usuario\n",
       "console.log(window.location.pathname)"
      ],
      "text/plain": [
       "<IPython.core.display.Javascript object>"
      ]
     },
     "metadata": {},
     "output_type": "display_data"
    }
   ],
   "source": [
    "%%javascript\n",
    "// Página por la que navega el usuario\n",
    "console.log(window.location.pathname)"
   ]
  },
  {
   "cell_type": "code",
   "execution_count": 21,
   "metadata": {
    "collapsed": false,
    "nbpresent": {
     "id": "cc27e4a1-aaff-4b69-9165-3ccc03161879"
    }
   },
   "outputs": [
    {
     "data": {
      "application/javascript": [
       "// Título de la página\n",
       "console.log(document.title)"
      ],
      "text/plain": [
       "<IPython.core.display.Javascript object>"
      ]
     },
     "metadata": {},
     "output_type": "display_data"
    }
   ],
   "source": [
    "%%javascript\n",
    "// Título de la página\n",
    "console.log(document.title)"
   ]
  },
  {
   "cell_type": "code",
   "execution_count": 22,
   "metadata": {
    "collapsed": false,
    "nbpresent": {
     "id": "a5573ca4-d507-4789-b8ec-143ab4b3a72b"
    }
   },
   "outputs": [
    {
     "data": {
      "application/javascript": [
       "// Navegador del usuario\n",
       "console.log(navigator.userAgent)"
      ],
      "text/plain": [
       "<IPython.core.display.Javascript object>"
      ]
     },
     "metadata": {},
     "output_type": "display_data"
    }
   ],
   "source": [
    "%%javascript\n",
    "// Navegador del usuario\n",
    "console.log(navigator.userAgent)"
   ]
  },
  {
   "cell_type": "markdown",
   "metadata": {
    "nbpresent": {
     "id": "d114687a-eff7-4d04-8325-a547c60668c8"
    }
   },
   "source": [
    "Cuando enviamos hits a Analytics a través del protocolo de medición no es necesario especificar parámetros como el hostname o nombre del dominio desde el cual se envía el hit, navegador del usuario, su dirección IP o ubicación geográfica. Dichos parámetros viajan siempre en las [cabeceras http](https://en.wikipedia.org/wiki/List_of_HTTP_header_fields) de cualquier petición web.\n",
    "\n",
    "Todas la demás variables debemos incluirlas.\n",
    "\n",
    "\n",
    "### Cookies\n",
    "\n",
    "analytics.js usa dos cookies propias para:\n",
    "\n",
    "- Distinguir a los usuarios únicos: Cookie `_ga` (Duración 2 años)\n",
    "- Limitar el porcentaje de solicitudes: Cookie: `_gat` (Duración 10 minutos)\n",
    "\n",
    "\n",
    "Para que Analytics determine que dos hits diferentes pertenecen al mismo usuario, con cada hit se debe enviar un identificador único asociado a ese usuario.\n",
    "\n",
    "analytics.js utiliza el campo `clientId`, una cadena única generada aleatoriamente que se almacena en las cookies del navegador.\n",
    "\n",
    "> Crear una cookie con Javascript es muy sencillo"
   ]
  },
  {
   "cell_type": "code",
   "execution_count": 23,
   "metadata": {
    "collapsed": false,
    "nbpresent": {
     "id": "66b3225c-5f81-4db8-a0b8-3fe1f7599683"
    }
   },
   "outputs": [
    {
     "data": {
      "application/javascript": [
       "var cookieName = '_ga';\n",
       "var clientId = '76c24efd-ec42-492a-92df-c62cfd4540a3' // cadena única generada aleatoriamente\n",
       "var date = new Date();\n",
       "date.setTime(date.getTime() + (365 * 2 * 24 * 60 * 60 * 1000));\n",
       "var expires = \"; expires=\" + date.toGMTString();\n",
       "// Escribimos la cookie:\n",
       "document.cookie = cookieName + \"=\" + clientId + expires + \"; path=/\";"
      ],
      "text/plain": [
       "<IPython.core.display.Javascript object>"
      ]
     },
     "metadata": {},
     "output_type": "display_data"
    }
   ],
   "source": [
    "%%javascript\n",
    "var cookieName = '_ga';\n",
    "var clientId = '76c24efd-ec42-492a-92df-c62cfd4540a3' // cadena única generada aleatoriamente\n",
    "var date = new Date();\n",
    "date.setTime(date.getTime() + (365 * 2 * 24 * 60 * 60 * 1000));\n",
    "var expires = \"; expires=\" + date.toGMTString();\n",
    "// Escribimos la cookie:\n",
    "document.cookie = cookieName + \"=\" + clientId + expires + \"; path=/\";"
   ]
  },
  {
   "cell_type": "code",
   "execution_count": 24,
   "metadata": {
    "collapsed": false,
    "nbpresent": {
     "id": "22ce1a72-cbeb-4767-b32d-179526cba59c"
    }
   },
   "outputs": [
    {
     "data": {
      "application/javascript": [
       "// Veamos todas las cookies del dominio en el que estamos:\n",
       "console.log(document.cookie)"
      ],
      "text/plain": [
       "<IPython.core.display.Javascript object>"
      ]
     },
     "metadata": {},
     "output_type": "display_data"
    }
   ],
   "source": [
    "%%javascript\n",
    "// Veamos todas las cookies del dominio en el que estamos:\n",
    "console.log(document.cookie)"
   ]
  },
  {
   "cell_type": "markdown",
   "metadata": {},
   "source": [
    "> Y leerlas también"
   ]
  },
  {
   "cell_type": "code",
   "execution_count": 25,
   "metadata": {
    "collapsed": false,
    "nbpresent": {
     "id": "af065a90-f5d5-4283-84e8-d59e6af6b443"
    }
   },
   "outputs": [
    {
     "data": {
      "application/javascript": [
       "function getCookie(name) {\n",
       "  var value = \"; \" + document.cookie;\n",
       "  var parts = value.split(\"; \" + name + \"=\");\n",
       "  if (parts.length == 2) return parts.pop().split(\";\").shift();\n",
       "}\n",
       "console.log(getCookie('_ga'))"
      ],
      "text/plain": [
       "<IPython.core.display.Javascript object>"
      ]
     },
     "metadata": {},
     "output_type": "display_data"
    }
   ],
   "source": [
    "%%javascript\n",
    "function getCookie(name) {\n",
    "  var value = \"; \" + document.cookie;\n",
    "  var parts = value.split(\"; \" + name + \"=\");\n",
    "  if (parts.length == 2) return parts.pop().split(\";\").shift();\n",
    "}\n",
    "console.log(getCookie('_ga'))"
   ]
  },
  {
   "cell_type": "markdown",
   "metadata": {
    "nbpresent": {
     "id": "575327db-cfca-44e5-954a-a9a2f6b2c893"
    }
   },
   "source": [
    "### Apliquemos lo aprendido a nuestro tag:"
   ]
  },
  {
   "cell_type": "code",
   "execution_count": 26,
   "metadata": {
    "collapsed": false,
    "nbpresent": {
     "id": "78e6250d-bdfb-4682-9a8a-4406d50fcc72"
    }
   },
   "outputs": [
    {
     "data": {
      "application/javascript": [
       "\n",
       "// Variables\n",
       "function getCookie(name) {\n",
       "  var value = \"; \" + document.cookie;\n",
       "  var parts = value.split(\"; \" + name + \"=\");\n",
       "  if (parts.length == 2) return parts.pop().split(\";\").shift();\n",
       "}\n",
       "\n",
       "var ua = 'UA-62172390-1';\n",
       "var clientId = getCookie('_ga');\n",
       "var tipoHit = 'pageview';\n",
       "var pagePath = window.location.pathname;\n",
       "var pageTitle = document.title;\n",
       "\n",
       "var xhr = new XMLHttpRequest();\n",
       "xhr.onreadystatechange = function() {\n",
       "    if (xhr.readyState == XMLHttpRequest.DONE) {\n",
       "        console.log(xhr.responseText);\n",
       "    }\n",
       "}\n",
       "xhr.open(\"POST\", 'http://www.google-analytics.com/collect?v=1&tid=' + ua + '&cid=' + clientId + '&t=' + tipoHit + '&dp=' + pagePath + '&dt=' + pageTitle + '', true);\n",
       "xhr.send('');"
      ],
      "text/plain": [
       "<IPython.core.display.Javascript object>"
      ]
     },
     "metadata": {},
     "output_type": "display_data"
    }
   ],
   "source": [
    "%%javascript\n",
    "\n",
    "// Variables\n",
    "function getCookie(name) {\n",
    "  var value = \"; \" + document.cookie;\n",
    "  var parts = value.split(\"; \" + name + \"=\");\n",
    "  if (parts.length == 2) return parts.pop().split(\";\").shift();\n",
    "}\n",
    "\n",
    "var ua = 'UA-62172390-1';\n",
    "var clientId = getCookie('_ga');\n",
    "var tipoHit = 'pageview';\n",
    "var pagePath = window.location.pathname;\n",
    "var pageTitle = document.title;\n",
    "\n",
    "var xhr = new XMLHttpRequest();\n",
    "xhr.onreadystatechange = function() {\n",
    "    if (xhr.readyState == XMLHttpRequest.DONE) {\n",
    "        console.log(xhr.responseText);\n",
    "    }\n",
    "}\n",
    "xhr.open(\"POST\", 'http://www.google-analytics.com/collect?v=1&tid=' + ua + '&cid=' + clientId + '&t=' + tipoHit + '&dp=' + pagePath + '&dt=' + pageTitle + '', true);\n",
    "xhr.send('');"
   ]
  },
  {
   "cell_type": "markdown",
   "metadata": {
    "nbpresent": {
     "id": "b83a0c72-d9fc-454e-ac36-36b2be094588"
    }
   },
   "source": [
    "## Eventos\n",
    "\n",
    "- Eventos HTML\n",
    "- Eventos en Analytics\n",
    "\n",
    "### Enventos HTML\n",
    "\n",
    "Un evento es algo que hace la página web o el usuario. \n",
    "\n",
    "> [Debemos conocerlos para saber qué podemos medir](http://www.w3schools.com/tags/ref_eventattributes.asp)\n",
    "\n",
    "Algunos ejemplos de eventos HTML:\n",
    "\n",
    "- La página ha terminado de cargarse: `ònload`\n",
    "- Se ha producido un cambio en un campo de un formulario. Ejemplos: `oninput`, `onblur`,  `onchange`, etc.\n",
    "- Se ha interactuado con un botón. Ejemplos `onclick`, `ondblclick`, `onmouseover`, etc.\n",
    "\n",
    "Mediante Javascript pordemos ejecutar código cuando se detecta un evento.\n",
    "\n",
    "**La forma básica (no recomendable pero válida):**"
   ]
  },
  {
   "cell_type": "code",
   "execution_count": 27,
   "metadata": {
    "collapsed": false,
    "nbpresent": {
     "id": "b71a1e59-13a1-4e7c-82d7-efeb7ad590bb"
    }
   },
   "outputs": [
    {
     "data": {
      "text/html": [
       "<!DOCTYPE html>\n",
       "<html>\n",
       "<title>Carrito</title>\n",
       "<head>\n",
       "  <meta name=\"viewport\" content=\"width=device-width, initial-scale=1\">\n",
       "  <link rel=\"stylesheet\" href=\"https://maxcdn.bootstrapcdn.com/bootstrap/3.3.7/css/bootstrap.min.css\">\n",
       "  <script src=\"https://ajax.googleapis.com/ajax/libs/jquery/1.12.4/jquery.min.js\"></script>\n",
       "  <script src=\"https://maxcdn.bootstrapcdn.com/bootstrap/3.3.7/js/bootstrap.min.js\"></script>\n",
       "</head>\n",
       "<body>\n",
       "\n",
       "<div class=\"container\">\n",
       "  <h2>El arte de medir</h2>\n",
       "  <img src=\"https://images-na.ssl-images-amazon.com/images/I/51k86SlEn4L._AC_UL115_.jpg\" />\n",
       "  <p>Este libro es una introducción a la análitica web, explica los conceptos necesarios para poder sacarle el máximo partido a los datos.</p>\n",
       "  <button type=\"button\" class=\"btn btn-danger btn-lg\" id=\"addToCart\" onclick=\"console.log('Click en el botón')\"><span class=\"glyphicon glyphicon-shopping-cart\"></span> Añadir al carrito</button>\n",
       "</div>\n",
       "\n",
       "</body>\n",
       "</html>"
      ],
      "text/plain": [
       "<IPython.core.display.HTML object>"
      ]
     },
     "metadata": {},
     "output_type": "display_data"
    }
   ],
   "source": [
    "%%html\n",
    "<!DOCTYPE html>\n",
    "<html>\n",
    "<title>Carrito</title>\n",
    "<head>\n",
    "  <meta name=\"viewport\" content=\"width=device-width, initial-scale=1\">\n",
    "  <link rel=\"stylesheet\" href=\"https://maxcdn.bootstrapcdn.com/bootstrap/3.3.7/css/bootstrap.min.css\">\n",
    "  <script src=\"https://ajax.googleapis.com/ajax/libs/jquery/1.12.4/jquery.min.js\"></script>\n",
    "  <script src=\"https://maxcdn.bootstrapcdn.com/bootstrap/3.3.7/js/bootstrap.min.js\"></script>\n",
    "</head>\n",
    "<body>\n",
    "\n",
    "<div class=\"container\">\n",
    "  <h2>El arte de medir</h2>\n",
    "  <img src=\"https://images-na.ssl-images-amazon.com/images/I/51k86SlEn4L._AC_UL115_.jpg\" />\n",
    "  <p>Este libro es una introducción a la análitica web, explica los conceptos necesarios para poder sacarle el máximo partido a los datos.</p>\n",
    "  <button type=\"button\" class=\"btn btn-danger btn-lg\" id=\"addToCart\" onclick=\"console.log('Click en el botón')\"><span class=\"glyphicon glyphicon-shopping-cart\"></span> Añadir al carrito</button>\n",
    "</div>\n",
    "\n",
    "</body>\n",
    "</html>"
   ]
  },
  {
   "cell_type": "markdown",
   "metadata": {
    "nbpresent": {
     "id": "a42650b9-bf4d-412c-9d4e-0c75914c8a13"
    }
   },
   "source": [
    "---\n",
    "Mediante escuchadores de eventos o listeners. En este caso usando [jquery](https://jquery.com/)."
   ]
  },
  {
   "cell_type": "code",
   "execution_count": null,
   "metadata": {
    "collapsed": false,
    "nbpresent": {
     "id": "46c82578-d6be-430a-8fbf-9b1e401719b5"
    }
   },
   "outputs": [],
   "source": [
    "%%javascript\n",
    "$('#addToCart').mouseover(function(){\n",
    "    console.log('Estoy encima del botón que pone ' + $(this).text());\n",
    "});"
   ]
  },
  {
   "cell_type": "code",
   "execution_count": null,
   "metadata": {
    "collapsed": false,
    "nbpresent": {
     "id": "9139e730-4ec7-45d1-a157-d10d240e9538"
    }
   },
   "outputs": [],
   "source": [
    "%%javascript\n",
    "// Quitamos el listener\n",
    "$('#addToCart').unbind('mouseover');"
   ]
  },
  {
   "cell_type": "markdown",
   "metadata": {
    "nbpresent": {
     "id": "9d5bc5ef-ec78-4005-ba66-495c6b7cce2c"
    }
   },
   "source": [
    "\n",
    "### Eventos en Analytics\n",
    "\n",
    "Los eventos son interacciones del usuario con contenido cuyo seguimiento se puede realizar independientemente a partir de una página web o una carga de pantalla. Las descargas, los clics en anuncios para móviles, los gadgets, los elementos Flash, los elementos insertados AJAX y las reproducciones de vídeo son todos ejemplos de acciones que podemos medir con eventos. [Más info](https://support.google.com/analytics/answer/1033068)\n",
    "\n",
    "- Para enviar datos de eventos los hits deben ser del tipo `event`\n",
    "- Variables específicas de los eventos: \n",
    "    - `ec`: Categoría del evento (Obligatorio)\n",
    "    - `ea`: Acción del evento (Obligatorio)\n",
    "    - `el`: Etiqueta del evento (Recomendable)\n",
    "    - `ev`: Valor del evento\n",
    "    "
   ]
  },
  {
   "cell_type": "code",
   "execution_count": 28,
   "metadata": {
    "collapsed": false,
    "nbpresent": {
     "id": "331a8c19-3337-4bfc-b64d-ca9b6a64b68f"
    }
   },
   "outputs": [
    {
     "data": {
      "application/javascript": [
       "\n",
       "// Variables\n",
       "function getCookie(name) {\n",
       "  var value = \"; \" + document.cookie;\n",
       "  var parts = value.split(\"; \" + name + \"=\");\n",
       "  if (parts.length == 2) return parts.pop().split(\";\").shift();\n",
       "}\n",
       "\n",
       "var ua = 'UA-62172390-1';\n",
       "var clientId = getCookie('_ga');\n",
       "var tipoHit = 'event';\n",
       "var pagePath = window.location.pathname;\n",
       "var pageTitle = document.title;\n",
       "\n",
       "var xhr = new XMLHttpRequest();\n",
       "xhr.onreadystatechange = function() {\n",
       "    if (xhr.readyState == XMLHttpRequest.DONE) {\n",
       "        console.log(xhr.responseText);\n",
       "    }\n",
       "}\n",
       "\n",
       "$('#addToCart').click(function(){\n",
       "    var eventCategory = 'Interacción';\n",
       "    var eventAction = 'Carrito';\n",
       "    var eventLabel = $(this).text();\n",
       "    xhr.open(\"POST\", 'http://www.google-analytics.com/collect?v=1&tid=' + ua + '&cid=' + clientId + '&t=' + tipoHit + '&dp=' + pagePath + '&dt=' + pageTitle + '&ec=' + eventCategory + '&ea=' + eventAction + '&el=' + eventLabel + '  ' , true);\n",
       "    xhr.send('');\n",
       "});"
      ],
      "text/plain": [
       "<IPython.core.display.Javascript object>"
      ]
     },
     "metadata": {},
     "output_type": "display_data"
    }
   ],
   "source": [
    "%%javascript\n",
    "\n",
    "// Variables\n",
    "function getCookie(name) {\n",
    "  var value = \"; \" + document.cookie;\n",
    "  var parts = value.split(\"; \" + name + \"=\");\n",
    "  if (parts.length == 2) return parts.pop().split(\";\").shift();\n",
    "}\n",
    "\n",
    "var ua = 'UA-62172390-1';\n",
    "var clientId = getCookie('_ga');\n",
    "var tipoHit = 'event';\n",
    "var pagePath = window.location.pathname;\n",
    "var pageTitle = document.title;\n",
    "\n",
    "var xhr = new XMLHttpRequest();\n",
    "xhr.onreadystatechange = function() {\n",
    "    if (xhr.readyState == XMLHttpRequest.DONE) {\n",
    "        console.log(xhr.responseText);\n",
    "    }\n",
    "}\n",
    "\n",
    "$('#addToCart').click(function(){\n",
    "    var eventCategory = 'Interacción';\n",
    "    var eventAction = 'Carrito';\n",
    "    var eventLabel = $(this).text();\n",
    "    xhr.open(\"POST\", 'http://www.google-analytics.com/collect?v=1&tid=' + ua + '&cid=' + clientId + '&t=' + tipoHit + '&dp=' + pagePath + '&dt=' + pageTitle + '&ec=' + eventCategory + '&ea=' + eventAction + '&el=' + eventLabel + '  ' , true);\n",
    "    xhr.send('');\n",
    "});"
   ]
  },
  {
   "cell_type": "code",
   "execution_count": null,
   "metadata": {
    "collapsed": false,
    "nbpresent": {
     "id": "63bfc71e-5e45-4dbc-9be0-6aa4fc688f2a"
    }
   },
   "outputs": [],
   "source": [
    "%%javascript\n",
    "// Quitamos el listener\n",
    "$('#addToCart').unbind('click');"
   ]
  },
  {
   "cell_type": "markdown",
   "metadata": {
    "nbpresent": {
     "id": "2e96cfdc-5d4e-4c99-9841-23871b48e4b1"
    }
   },
   "source": [
    "> ¿Podemo organizalo todo mejor?\n",
    "\n",
    "## El dataLayer\n",
    "\n",
    "Es un objeto javascript en formato JSON (`'clave' : 'valor'`) que contiene información, tanto de  eventos como de variables. \n",
    "\n",
    "Su principal objetivo es crear una capa de datos que facilite el acceso a los datos a herramientas como **Google Tag Manager**."
   ]
  },
  {
   "cell_type": "code",
   "execution_count": 29,
   "metadata": {
    "collapsed": false,
    "nbpresent": {
     "id": "52dccb26-00a1-4db2-a3ba-a2c83aece42a"
    }
   },
   "outputs": [
    {
     "data": {
      "application/javascript": [
       "\n",
       "var dataLayer = [{\n",
       "    'pageLanguage': 'es_ES',\n",
       "    'pageTemplate': 'ProductDetail',\n",
       "    'userLoggedIn': false,\n",
       "    // Comecio electrónico mejorado\n",
       "    'ecommerce': {\n",
       "        'detail': {\n",
       "          'actionField': {'list': 'Top ventas'}, \n",
       "          'products': [{\n",
       "            'name': 'El Arte de Medir', \n",
       "            'id': '12345',\n",
       "            'price': '15.25',\n",
       "            'category': 'Web analytics',\n",
       "            'stock': 3,\n",
       "            'edition': 2\n",
       "           }]\n",
       "         }\n",
       "   }\n",
       "}]\n",
       "\n",
       "console.log(dataLayer)"
      ],
      "text/plain": [
       "<IPython.core.display.Javascript object>"
      ]
     },
     "metadata": {},
     "output_type": "display_data"
    }
   ],
   "source": [
    "%%javascript\n",
    "\n",
    "var dataLayer = [{\n",
    "    'pageLanguage': 'es_ES',\n",
    "    'pageTemplate': 'ProductDetail',\n",
    "    'userLoggedIn': false,\n",
    "    // Comecio electrónico mejorado\n",
    "    'ecommerce': {\n",
    "        'detail': {\n",
    "          'actionField': {'list': 'Top ventas'}, \n",
    "          'products': [{\n",
    "            'name': 'El Arte de Medir', \n",
    "            'id': '12345',\n",
    "            'price': '15.25',\n",
    "            'category': 'Web analytics',\n",
    "            'stock': 3,\n",
    "            'edition': 2\n",
    "           }]\n",
    "         }\n",
    "   }\n",
    "}]\n",
    "\n",
    "console.log(dataLayer)"
   ]
  },
  {
   "cell_type": "markdown",
   "metadata": {},
   "source": [
    "[Enhanced Ecommerce (UA) Developer Guide](https://developers.google.com/analytics/devguides/collection/analyticsjs/enhanced-ecommerce)"
   ]
  },
  {
   "cell_type": "markdown",
   "metadata": {
    "nbpresent": {
     "id": "eaffdfc0-db68-4fa4-9071-d79a9b257398"
    }
   },
   "source": [
    "### ¿Cómo agregar nueva información al dataLayer?"
   ]
  },
  {
   "cell_type": "code",
   "execution_count": 30,
   "metadata": {
    "collapsed": false,
    "nbpresent": {
     "id": "9c1b959d-1b4b-4f1a-8b5e-51f736b6f69c"
    }
   },
   "outputs": [
    {
     "data": {
      "application/javascript": [
       "\n",
       "var dataLayer = [{\n",
       "    'pageLanguage': 'es_ES',\n",
       "    'pageTemplate': 'ProductDetail',\n",
       "    'userLoggedIn': false,\n",
       "    'ecommerce': {\n",
       "        'detail': {\n",
       "          'actionField': {'list': 'Top ventas'}, \n",
       "          'products': [{\n",
       "            'name': 'El Arte de Medir', \n",
       "            'id': '12345',\n",
       "            'price': '15.25',\n",
       "            'category': 'Web analytics',\n",
       "            'stock': 3,\n",
       "            'edition': 2\n",
       "           }]\n",
       "         }\n",
       "   }\n",
       "}]\n",
       "\n",
       "dataLayer.push({\n",
       "    'event': 'ecommerce',\n",
       "    'eventCategory': 'Interacción',\n",
       "    'eventAction': 'Carrito',\n",
       "    'ecommerce': {\n",
       "        'currencyCode': 'EUR',\n",
       "        'add': {   \n",
       "          'products': [{ \n",
       "            'name': 'El Arte de Medir', \n",
       "            'id': '12345',\n",
       "            'price': '15.25',\n",
       "            'category': 'Web analytics',\n",
       "            'stock': 3,\n",
       "            'edition': 2,\n",
       "            'quantity': 1\n",
       "           }]\n",
       "        }\n",
       "    }\n",
       "});\n",
       "\n",
       "console.log(dataLayer)\n"
      ],
      "text/plain": [
       "<IPython.core.display.Javascript object>"
      ]
     },
     "metadata": {},
     "output_type": "display_data"
    }
   ],
   "source": [
    "%%javascript\n",
    "\n",
    "var dataLayer = [{\n",
    "    'pageLanguage': 'es_ES',\n",
    "    'pageTemplate': 'ProductDetail',\n",
    "    'userLoggedIn': false,\n",
    "    'ecommerce': {\n",
    "        'detail': {\n",
    "          'actionField': {'list': 'Top ventas'}, \n",
    "          'products': [{\n",
    "            'name': 'El Arte de Medir', \n",
    "            'id': '12345',\n",
    "            'price': '15.25',\n",
    "            'category': 'Web analytics',\n",
    "            'stock': 3,\n",
    "            'edition': 2\n",
    "           }]\n",
    "         }\n",
    "   }\n",
    "}]\n",
    "\n",
    "dataLayer.push({\n",
    "    'event': 'ecommerce',\n",
    "    'eventCategory': 'Interacción',\n",
    "    'eventAction': 'Carrito',\n",
    "    'ecommerce': {\n",
    "        'currencyCode': 'EUR',\n",
    "        'add': {   \n",
    "          'products': [{ \n",
    "            'name': 'El Arte de Medir', \n",
    "            'id': '12345',\n",
    "            'price': '15.25',\n",
    "            'category': 'Web analytics',\n",
    "            'stock': 3,\n",
    "            'edition': 2,\n",
    "            'quantity': 1\n",
    "           }]\n",
    "        }\n",
    "    }\n",
    "});\n",
    "\n",
    "console.log(dataLayer)\n",
    "\n"
   ]
  },
  {
   "cell_type": "markdown",
   "metadata": {
    "collapsed": true
   },
   "source": [
    "Por sencillez vamos a suponer vamos a suponer:"
   ]
  },
  {
   "cell_type": "code",
   "execution_count": null,
   "metadata": {
    "collapsed": false
   },
   "outputs": [],
   "source": [
    "%%javascript\n",
    "\n",
    "var dataLayer = [{\n",
    "    'language': 'es_ES',\n",
    "    'pageTemplate': 'ProductDetail'\n",
    "}]\n",
    "\n",
    "console.log(dataLayer)"
   ]
  },
  {
   "cell_type": "code",
   "execution_count": null,
   "metadata": {
    "collapsed": false,
    "nbpresent": {
     "id": "88d8fe1a-8a52-4f69-8cb2-5b118087c344"
    }
   },
   "outputs": [],
   "source": [
    "%%javascript\n",
    "\n",
    "// VARIABLES\n",
    "function getCookie(name) {\n",
    "  var value = \"; \" + document.cookie;\n",
    "  var parts = value.split(\"; \" + name + \"=\");\n",
    "  if (parts.length == 2) return parts.pop().split(\";\").shift();\n",
    "}\n",
    "\n",
    "var ua = 'UA-62172390-1';\n",
    "var clientId = getCookie('_ga');\n",
    "var tipoHit = 'event';\n",
    "var pagePath = window.location.pathname;\n",
    "var pageTitle = document.title;\n",
    "\n",
    "var xhr = new XMLHttpRequest();\n",
    "xhr.onreadystatechange = function() {\n",
    "    if (xhr.readyState == XMLHttpRequest.DONE) {\n",
    "        console.log(xhr.responseText);\n",
    "    }\n",
    "}\n",
    "\n",
    "var MyAwesomeTagManager = function() {\n",
    "    var arr = [];\n",
    "    arr.push = function() {\n",
    "        console.log(\"dataLayer actualizado con:\", arguments[0]['event']);\n",
    "        if (arguments[0]['event'] == 'ga') {\n",
    "            var eventCategory = arguments[0]['eventCategory'];\n",
    "            var eventAction = arguments[0]['eventAction'];\n",
    "            var eventLabel = null;\n",
    "            console.log('Evento ga: | Categoría: ' \n",
    "                        + eventCategory\n",
    "                        + ' | Acción: ' \n",
    "                        + eventAction\n",
    "                       )\n",
    "            xhr.open(\"POST\", 'http://www.google-analytics.com/collect?v=1&tid=' + ua + '&cid=' + clientId + '&t=' + tipoHit + '&dp=' + pagePath + '&dt=' + pageTitle + '&ec=' + eventCategory + '&ea=' + eventAction + '&el=' + eventLabel + '  ' , true);\n",
    "            xhr.send('');\n",
    "        }\n",
    "        return Array.prototype.push.apply(this, arguments);\n",
    "    }\n",
    "\n",
    "    return arr;\n",
    "};\n",
    "\n",
    "var dataLayer = new MyAwesomeTagManager;\n",
    "\n",
    "dataLayer.push({\n",
    "    'event': 'ga',\n",
    "    'eventCategory': 'Interacción',\n",
    "    'eventAction': 'Carrito'\n",
    "})"
   ]
  },
  {
   "cell_type": "code",
   "execution_count": null,
   "metadata": {
    "collapsed": false,
    "nbpresent": {
     "id": "9f1b2be4-71ba-4774-8a57-f46fc27e4826"
    }
   },
   "outputs": [],
   "source": [
    "%%javascript\n",
    "// Quitamos el listener\n",
    "$('#addToCart').unbind('click');"
   ]
  },
  {
   "cell_type": "code",
   "execution_count": 4,
   "metadata": {
    "collapsed": false,
    "nbpresent": {
     "id": "46b613f8-f1d4-4984-bf10-6a03826f3578"
    }
   },
   "outputs": [
    {
     "data": {
      "application/javascript": [
       "\n",
       "// Variables\n",
       "function getCookie(name) {\n",
       "  var value = \"; \" + document.cookie;\n",
       "  var parts = value.split(\"; \" + name + \"=\");\n",
       "  if (parts.length == 2) return parts.pop().split(\";\").shift();\n",
       "}\n",
       "\n",
       "var ua = 'UA-62172390-1';\n",
       "var clientId = getCookie('_ga');\n",
       "var tipoHit = 'event';\n",
       "var pagePath = window.location.pathname;\n",
       "var pageTitle = document.title;\n",
       "\n",
       "var xhr = new XMLHttpRequest();\n",
       "xhr.onreadystatechange = function() {\n",
       "    if (xhr.readyState == XMLHttpRequest.DONE) {\n",
       "        console.log(xhr.responseText);\n",
       "    }\n",
       "}\n",
       "\n",
       "var MyArray = function() {\n",
       "    var arr = [];\n",
       "    arr.push = function() {\n",
       "        console.log(\"dataLayer actualizado con:\", arguments[0]['event']);\n",
       "        if (arguments[0]['event'] == 'ga') {\n",
       "            var eventCategory = arguments[0]['eventCategory'];\n",
       "            var eventAction = arguments[0]['eventAction'];\n",
       "            var eventLabel = null;\n",
       "            console.log('Evento ga: | Categoría: ' \n",
       "                        + eventCategory\n",
       "                        + ' | Acción: ' \n",
       "                        + eventAction\n",
       "                       )\n",
       "            xhr.open(\"POST\", 'http://www.google-analytics.com/collect?v=1&tid=' + ua + '&cid=' + clientId + '&t=' + tipoHit + '&dp=' + pagePath + '&dt=' + pageTitle + '&ec=' + eventCategory + '&ea=' + eventAction + '&el=' + eventLabel + '  ' , true);\n",
       "            xhr.send('');\n",
       "        }\n",
       "        return Array.prototype.push.apply(this, arguments);\n",
       "    }\n",
       "\n",
       "    return arr;\n",
       "};\n",
       "\n",
       "var dataLayer = new MyArray;\n",
       "\n",
       "$('#addToCart').click(function(){\n",
       "    dataLayer.push({\n",
       "        'event': 'ga',\n",
       "        'eventCategory': 'Interacción',\n",
       "        'eventAction': 'Carrito'\n",
       "    })\n",
       "});"
      ],
      "text/plain": [
       "<IPython.core.display.Javascript object>"
      ]
     },
     "metadata": {},
     "output_type": "display_data"
    }
   ],
   "source": [
    "%%javascript\n",
    "\n",
    "// Mis variables\n",
    "function getCookie(name) {\n",
    "  var value = \"; \" + document.cookie;\n",
    "  var parts = value.split(\"; \" + name + \"=\");\n",
    "  if (parts.length == 2) return parts.pop().split(\";\").shift();\n",
    "}\n",
    "\n",
    "var ua = 'UA-62172390-1';\n",
    "var clientId = getCookie('_ga');\n",
    "var tipoHit = 'event';\n",
    "var pagePath = window.location.pathname;\n",
    "var pageTitle = document.title;\n",
    "\n",
    "var xhr = new XMLHttpRequest();\n",
    "xhr.onreadystatechange = function() {\n",
    "    if (xhr.readyState == XMLHttpRequest.DONE) {\n",
    "        console.log(xhr.responseText);\n",
    "    }\n",
    "}\n",
    "\n",
    "\n",
    "// Mi propio Tag Manager\n",
    "\n",
    "var MyAwesomeTagManager = function() {\n",
    "    var arr = [];\n",
    "    arr.push = function() {\n",
    "        \n",
    "        console.log(\"dataLayer actualizado con:\", arguments[0]['event']);\n",
    "        \n",
    "        // Un trigger o regla\n",
    "        if (arguments[0]['event'] == 'ga') {\n",
    "            var eventCategory = arguments[0]['eventCategory'];\n",
    "            var eventAction = arguments[0]['eventAction'];\n",
    "            var eventLabel = null;\n",
    "            \n",
    "            console.log('Evento ga: | Categoría: ' \n",
    "                        + eventCategory\n",
    "                        + ' | Acción: ' \n",
    "                        + eventAction\n",
    "                       )\n",
    "            \n",
    "            xhr.open(\"POST\", 'http://www.google-analytics.com/collect?v=1&tid=' + ua + '&cid=' + clientId + '&t=' + tipoHit + '&dp=' + pagePath + '&dt=' + pageTitle + '&ec=' + eventCategory + '&ea=' + eventAction + '&el=' + eventLabel + '  ' , true);\n",
    "            xhr.send(null);\n",
    "        }\n",
    "        return Array.prototype.push.apply(this, arguments);\n",
    "    }\n",
    "\n",
    "    return arr;\n",
    "};\n",
    "\n",
    "var dataLayer = new MyAwesomeTagManager;\n",
    "\n",
    "$('#addToCart').click(function(){\n",
    "    dataLayer.push({\n",
    "        'event': 'ga',\n",
    "        'eventCategory': 'Interacción',\n",
    "        'eventAction': 'Carrito'\n",
    "    })\n",
    "});"
   ]
  },
  {
   "cell_type": "markdown",
   "metadata": {
    "nbpresent": {
     "id": "0e20cb7f-b8ac-41a0-ad8e-683762e2c57c"
    }
   },
   "source": [
    "## ¿Lo vemos todo junto?\n",
    "\n",
    "[Link](final.ipynb)"
   ]
  },
  {
   "cell_type": "code",
   "execution_count": null,
   "metadata": {
    "collapsed": true,
    "nbpresent": {
     "id": "6619ca8b-d08b-4720-9a70-7bf80794c260"
    }
   },
   "outputs": [],
   "source": []
  }
 ],
 "metadata": {
  "anaconda-cloud": {},
  "kernelspec": {
   "display_name": "Python [Root]",
   "language": "python",
   "name": "Python [Root]"
  },
  "language_info": {
   "codemirror_mode": {
    "name": "ipython",
    "version": 3
   },
   "file_extension": ".py",
   "mimetype": "text/x-python",
   "name": "python",
   "nbconvert_exporter": "python",
   "pygments_lexer": "ipython3",
   "version": "3.5.2"
  },
  "nbpresent": {
   "slides": {
    "911845a3-77c2-4d51-a962-5d32b91aa880": {
     "id": "911845a3-77c2-4d51-a962-5d32b91aa880",
     "prev": null,
     "regions": {
      "f57bc506-83ae-4123-b233-6861eb1383f0": {
       "attrs": {
        "height": 0.8,
        "width": 0.8,
        "x": 0.1,
        "y": 0.1
       },
       "content": {
        "cell": "6ea54f52-e031-4ca9-9937-e1aa253e057e",
        "part": "whole"
       },
       "id": "f57bc506-83ae-4123-b233-6861eb1383f0"
      }
     }
    },
    "99140892-cdfe-4465-aea3-666e63fff905": {
     "id": "99140892-cdfe-4465-aea3-666e63fff905",
     "prev": "ebbd1e03-bf62-4305-95ff-21ffa66e2fc3",
     "regions": {
      "b3ac0d7c-a30c-41db-ba5a-d16864f08d12": {
       "attrs": {
        "height": 0.8,
        "width": 0.8,
        "x": 0.1,
        "y": 0.1
       },
       "content": {
        "cell": "1ee0e2dd-6b8b-44d2-90ec-7ff88ebae3d9",
        "part": "whole"
       },
       "id": "b3ac0d7c-a30c-41db-ba5a-d16864f08d12"
      }
     }
    },
    "a64d6fb5-eddd-47dd-9cfc-f793a02084c0": {
     "id": "a64d6fb5-eddd-47dd-9cfc-f793a02084c0",
     "prev": "e1bb1bcb-99ab-4256-9495-b85b28c68962",
     "regions": {
      "00fce452-7bf2-459c-be98-33d2fc2b0d97": {
       "attrs": {
        "height": 0.4,
        "width": 0.8,
        "x": 0.1,
        "y": 0.5
       },
       "content": {
        "cell": "a42650b9-bf4d-412c-9d4e-0c75914c8a13",
        "part": "whole"
       },
       "id": "00fce452-7bf2-459c-be98-33d2fc2b0d97"
      },
      "016c08dd-e009-4510-a131-32dfac7201bc": {
       "attrs": {
        "height": 0.4,
        "width": 0.8,
        "x": 0.1,
        "y": 0.5
       },
       "content": {
        "cell": "07f79886-bf1b-46dd-8ca3-83a21983a33a",
        "part": "whole"
       },
       "id": "016c08dd-e009-4510-a131-32dfac7201bc"
      },
      "08c71377-a239-48f0-8e39-3c4762e67292": {
       "attrs": {
        "height": 0.4,
        "width": 0.8,
        "x": 0.1,
        "y": 0.5
       },
       "content": {
        "cell": "eb9bebe9-6d4d-477f-946d-1ee2a16c2f93",
        "part": "whole"
       },
       "id": "08c71377-a239-48f0-8e39-3c4762e67292"
      },
      "172a82a5-80ca-45fd-b37a-8166b8c1c66b": {
       "attrs": {
        "height": 0.4,
        "width": 0.8,
        "x": 0.1,
        "y": 0.5
       },
       "content": {
        "cell": "36fd5d7a-36ad-49dd-9f72-0d9f0f4b27b0",
        "part": "whole"
       },
       "id": "172a82a5-80ca-45fd-b37a-8166b8c1c66b"
      },
      "1e6d5a38-5fe6-4027-8549-407476fd9a15": {
       "attrs": {
        "height": 0.4,
        "width": 0.8,
        "x": 0.1,
        "y": 0.5
       },
       "content": {
        "cell": "9f1b2be4-71ba-4774-8a57-f46fc27e4826",
        "part": "whole"
       },
       "id": "1e6d5a38-5fe6-4027-8549-407476fd9a15"
      },
      "2b7b6804-1bd7-4a77-8e83-9832b4e30a1a": {
       "attrs": {
        "height": 0.4,
        "width": 0.8,
        "x": 0.1,
        "y": 0.5
       },
       "content": {
        "cell": "8b31e2c8-ac81-4030-95e7-13f5ba589a8a",
        "part": "whole"
       },
       "id": "2b7b6804-1bd7-4a77-8e83-9832b4e30a1a"
      },
      "2c880bcb-dda5-4209-be37-7f2645176f4e": {
       "attrs": {
        "height": 0.4,
        "width": 0.8,
        "x": 0.1,
        "y": 0.5
       },
       "content": {
        "cell": "af065a90-f5d5-4283-84e8-d59e6af6b443",
        "part": "whole"
       },
       "id": "2c880bcb-dda5-4209-be37-7f2645176f4e"
      },
      "40be1d9e-e3f6-459f-87a1-684eeb11a0bd": {
       "attrs": {
        "height": 0.4,
        "width": 0.8,
        "x": 0.1,
        "y": 0.5
       },
       "content": {
        "cell": "2e96cfdc-5d4e-4c99-9841-23871b48e4b1",
        "part": "whole"
       },
       "id": "40be1d9e-e3f6-459f-87a1-684eeb11a0bd"
      },
      "41c17e1c-4375-46b8-adf3-ae6609dc4c66": {
       "attrs": {
        "height": 0.4,
        "width": 0.8,
        "x": 0.1,
        "y": 0.5
       },
       "content": {
        "cell": "9d5bc5ef-ec78-4005-ba66-495c6b7cce2c",
        "part": "whole"
       },
       "id": "41c17e1c-4375-46b8-adf3-ae6609dc4c66"
      },
      "46fc22cf-ad9e-4c77-bad0-4d217d51ff48": {
       "attrs": {
        "height": 0.4,
        "width": 0.8,
        "x": 0.1,
        "y": 0.5
       },
       "content": {
        "cell": "66b3225c-5f81-4db8-a0b8-3fe1f7599683",
        "part": "whole"
       },
       "id": "46fc22cf-ad9e-4c77-bad0-4d217d51ff48"
      },
      "4f40ab3f-dccf-4470-8ab6-4acce43010b9": {
       "attrs": {
        "height": 0.4,
        "width": 0.8,
        "x": 0.1,
        "y": 0.5
       },
       "content": {
        "cell": "9c1b959d-1b4b-4f1a-8b5e-51f736b6f69c",
        "part": "whole"
       },
       "id": "4f40ab3f-dccf-4470-8ab6-4acce43010b9"
      },
      "5cf5e135-be9e-453f-90d2-55acd45ec9d2": {
       "attrs": {
        "height": 0.4,
        "width": 0.8,
        "x": 0.1,
        "y": 0.5
       },
       "content": {
        "cell": "b71a1e59-13a1-4e7c-82d7-efeb7ad590bb",
        "part": "whole"
       },
       "id": "5cf5e135-be9e-453f-90d2-55acd45ec9d2"
      },
      "613889e4-c668-488d-97ca-996b428613a7": {
       "attrs": {
        "height": 0.4,
        "width": 0.8,
        "x": 0.1,
        "y": 0.5
       },
       "content": {
        "cell": "0e20cb7f-b8ac-41a0-ad8e-683762e2c57c",
        "part": "whole"
       },
       "id": "613889e4-c668-488d-97ca-996b428613a7"
      },
      "6698a6e2-dc2b-4a6c-a6db-98587f3b995b": {
       "attrs": {
        "height": 0.4,
        "width": 0.8,
        "x": 0.1,
        "y": 0.5
       },
       "content": {
        "cell": "b83a0c72-d9fc-454e-ac36-36b2be094588",
        "part": "whole"
       },
       "id": "6698a6e2-dc2b-4a6c-a6db-98587f3b995b"
      },
      "712d267e-a0c1-4446-ba80-6a714e613d02": {
       "attrs": {
        "height": 0.4,
        "width": 0.8,
        "x": 0.1,
        "y": 0.5
       },
       "content": {
        "cell": "9139e730-4ec7-45d1-a157-d10d240e9538",
        "part": "whole"
       },
       "id": "712d267e-a0c1-4446-ba80-6a714e613d02"
      },
      "733b0101-7ae3-47bc-a651-6f8acb27c557": {
       "attrs": {
        "height": 0.4,
        "width": 0.8,
        "x": 0.1,
        "y": 0.5
       },
       "content": {
        "cell": "490ebe1e-0927-4d86-8a22-b2df2344412b",
        "part": "whole"
       },
       "id": "733b0101-7ae3-47bc-a651-6f8acb27c557"
      },
      "77403eb2-9557-469b-bcee-2c406b148dff": {
       "attrs": {
        "height": 0.4,
        "width": 0.8,
        "x": 0.1,
        "y": 0.5
       },
       "content": {
        "cell": "eaffdfc0-db68-4fa4-9071-d79a9b257398",
        "part": "whole"
       },
       "id": "77403eb2-9557-469b-bcee-2c406b148dff"
      },
      "80790c70-9fda-4c3c-8b1a-d27611e6f769": {
       "attrs": {
        "height": 0.4,
        "width": 0.8,
        "x": 0.1,
        "y": 0.5
       },
       "content": {
        "cell": "d114687a-eff7-4d04-8325-a547c60668c8",
        "part": "whole"
       },
       "id": "80790c70-9fda-4c3c-8b1a-d27611e6f769"
      },
      "82bb62ea-66b2-4c32-9569-f480fae8f2c4": {
       "attrs": {
        "height": 0.4,
        "width": 0.8,
        "x": 0.1,
        "y": 0.5
       },
       "content": {
        "cell": "63bfc71e-5e45-4dbc-9be0-6aa4fc688f2a",
        "part": "whole"
       },
       "id": "82bb62ea-66b2-4c32-9569-f480fae8f2c4"
      },
      "8321626c-a84d-4538-ab52-05c1e207f356": {
       "attrs": {
        "height": 0.4,
        "width": 0.8,
        "x": 0.1,
        "y": 0.5
       },
       "content": {
        "cell": "881da015-ecaa-4cc0-a1af-39fa216af8e0",
        "part": "whole"
       },
       "id": "8321626c-a84d-4538-ab52-05c1e207f356"
      },
      "90c1f56d-a602-43d8-8ca0-60cb6337a30a": {
       "attrs": {
        "height": 0.4,
        "width": 0.8,
        "x": 0.1,
        "y": 0.5
       },
       "content": {
        "cell": "6619ca8b-d08b-4720-9a70-7bf80794c260",
        "part": "whole"
       },
       "id": "90c1f56d-a602-43d8-8ca0-60cb6337a30a"
      },
      "9844d389-5dd5-48a9-ab97-1fafe948ae7e": {
       "attrs": {
        "height": 0.4,
        "width": 0.8,
        "x": 0.1,
        "y": 0.5
       },
       "content": {
        "cell": "46b613f8-f1d4-4984-bf10-6a03826f3578",
        "part": "whole"
       },
       "id": "9844d389-5dd5-48a9-ab97-1fafe948ae7e"
      },
      "9bd1a037-807a-46ac-926a-eb81f84ed989": {
       "attrs": {
        "height": 0.4,
        "width": 0.8,
        "x": 0.1,
        "y": 0.5
       },
       "content": {
        "cell": "331a8c19-3337-4bfc-b64d-ca9b6a64b68f",
        "part": "whole"
       },
       "id": "9bd1a037-807a-46ac-926a-eb81f84ed989"
      },
      "9e122fa5-c55a-4444-92fe-17c813072719": {
       "attrs": {
        "height": 0.4,
        "width": 0.8,
        "x": 0.1,
        "y": 0.5
       },
       "content": {
        "cell": "a5573ca4-d507-4789-b8ec-143ab4b3a72b",
        "part": "whole"
       },
       "id": "9e122fa5-c55a-4444-92fe-17c813072719"
      },
      "a1058f8c-5c8c-4d24-b3ef-1ebea9de8035": {
       "attrs": {
        "height": 0.4,
        "width": 0.8,
        "x": 0.1,
        "y": 0.5
       },
       "content": {
        "cell": "cc27e4a1-aaff-4b69-9165-3ccc03161879",
        "part": "whole"
       },
       "id": "a1058f8c-5c8c-4d24-b3ef-1ebea9de8035"
      },
      "a42d8eb8-078f-4747-b60d-9721b5b02a85": {
       "attrs": {
        "height": 0.4,
        "width": 0.8,
        "x": 0.1,
        "y": 0.5
       },
       "content": {
        "cell": "46c82578-d6be-430a-8fbf-9b1e401719b5",
        "part": "whole"
       },
       "id": "a42d8eb8-078f-4747-b60d-9721b5b02a85"
      },
      "ac940331-76f5-4f01-aff8-7bc0f9498b26": {
       "attrs": {
        "height": 0.4,
        "width": 0.8,
        "x": 0.1,
        "y": 0.5
       },
       "content": {
        "cell": "c2d3602b-e28a-4369-9bfd-e74a616272a9",
        "part": "whole"
       },
       "id": "ac940331-76f5-4f01-aff8-7bc0f9498b26"
      },
      "b0a08b76-9d41-4e31-ba90-b863a8535128": {
       "attrs": {
        "height": 0.8,
        "width": 0.8,
        "x": 0.1,
        "y": 0.1
       },
       "content": {
        "cell": "feecda82-f3cf-4755-8879-462e9c34826e",
        "part": "whole"
       },
       "id": "b0a08b76-9d41-4e31-ba90-b863a8535128"
      },
      "b4ce51c1-dd54-419f-8f92-68f01b1c6278": {
       "attrs": {
        "height": 0.4,
        "width": 0.8,
        "x": 0.1,
        "y": 0.5
       },
       "content": {
        "cell": "88d8fe1a-8a52-4f69-8cb2-5b118087c344",
        "part": "whole"
       },
       "id": "b4ce51c1-dd54-419f-8f92-68f01b1c6278"
      },
      "bbced8b9-6b11-4029-b08a-327c22fbc1ed": {
       "attrs": {
        "height": 0.4,
        "width": 0.8,
        "x": 0.1,
        "y": 0.5
       },
       "content": {
        "cell": "52dccb26-00a1-4db2-a3ba-a2c83aece42a",
        "part": "whole"
       },
       "id": "bbced8b9-6b11-4029-b08a-327c22fbc1ed"
      },
      "c0cc97cf-e7e8-4bba-a1ee-6036458a1440": {
       "attrs": {
        "height": 0.4,
        "width": 0.8,
        "x": 0.1,
        "y": 0.5
       },
       "content": {
        "cell": "575327db-cfca-44e5-954a-a9a2f6b2c893",
        "part": "whole"
       },
       "id": "c0cc97cf-e7e8-4bba-a1ee-6036458a1440"
      },
      "d7183373-cbcc-4a0c-a4e6-50b423812a89": {
       "attrs": {
        "height": 0.4,
        "width": 0.8,
        "x": 0.1,
        "y": 0.5
       },
       "content": {
        "cell": "40acc410-4a65-4a3a-828d-726cc32282ef",
        "part": "whole"
       },
       "id": "d7183373-cbcc-4a0c-a4e6-50b423812a89"
      },
      "e252189e-d218-40a0-a2b0-29ab37234835": {
       "attrs": {
        "height": 0.4,
        "width": 0.8,
        "x": 0.1,
        "y": 0.5
       },
       "content": {
        "cell": "22ce1a72-cbeb-4767-b32d-179526cba59c",
        "part": "whole"
       },
       "id": "e252189e-d218-40a0-a2b0-29ab37234835"
      },
      "e764bf36-5f81-45e2-80fe-9d8bd25b4911": {
       "attrs": {
        "height": 0.4,
        "width": 0.8,
        "x": 0.1,
        "y": 0.5
       },
       "content": {
        "cell": "df3eead0-1cd8-4053-b5a3-181e51a66fd6",
        "part": "whole"
       },
       "id": "e764bf36-5f81-45e2-80fe-9d8bd25b4911"
      },
      "f00ee3e4-d1ff-44cc-a3f7-c3f2a01c2792": {
       "attrs": {
        "height": 0.4,
        "width": 0.8,
        "x": 0.1,
        "y": 0.5
       },
       "content": {
        "cell": "78e6250d-bdfb-4682-9a8a-4406d50fcc72",
        "part": "whole"
       },
       "id": "f00ee3e4-d1ff-44cc-a3f7-c3f2a01c2792"
      },
      "fa642ad2-4cd1-4d6d-a541-dcaba4e06939": {
       "attrs": {
        "height": 0.4,
        "width": 0.8,
        "x": 0.1,
        "y": 0.5
       },
       "content": {
        "cell": "1a78aebd-66f1-4128-891f-a26331cd65c0",
        "part": "whole"
       },
       "id": "fa642ad2-4cd1-4d6d-a541-dcaba4e06939"
      }
     }
    },
    "e1bb1bcb-99ab-4256-9495-b85b28c68962": {
     "id": "e1bb1bcb-99ab-4256-9495-b85b28c68962",
     "prev": "99140892-cdfe-4465-aea3-666e63fff905",
     "regions": {
      "149e99b8-2c25-4526-bb9d-74157697fe12": {
       "attrs": {
        "height": 0.8,
        "width": 0.8,
        "x": 0.1,
        "y": 0.1
       },
       "content": {
        "cell": "d69ecb8a-4198-4c89-8992-be7e00ace145",
        "part": "whole"
       },
       "id": "149e99b8-2c25-4526-bb9d-74157697fe12"
      },
      "6a6eea89-931e-4664-93d3-e07871a9bc6d": {
       "attrs": {
        "height": 0.4,
        "width": 0.8,
        "x": 0.1,
        "y": 0.5
       },
       "content": {
        "cell": "74245f87-6309-48d5-9186-e60fbeaf7cc2",
        "part": "whole"
       },
       "id": "6a6eea89-931e-4664-93d3-e07871a9bc6d"
      }
     }
    },
    "ebbd1e03-bf62-4305-95ff-21ffa66e2fc3": {
     "id": "ebbd1e03-bf62-4305-95ff-21ffa66e2fc3",
     "prev": "911845a3-77c2-4d51-a962-5d32b91aa880",
     "regions": {
      "87d0239d-db33-4701-afbe-016df80e595c": {
       "attrs": {
        "height": 0.8,
        "width": 0.8,
        "x": 0.1,
        "y": 0.1
       },
       "content": {
        "cell": "04c97ee2-cce0-445a-b76e-c63d7eec72b4",
        "part": "whole"
       },
       "id": "87d0239d-db33-4701-afbe-016df80e595c"
      }
     }
    }
   },
   "themes": {
    "default": "87778808-5359-4763-9f88-ead6815715bd",
    "theme": {
     "57840c6f-ac35-4f6e-a034-e959121dd754": {
      "backgrounds": {
       "backgroundColor": {
        "background-color": "backgroundColor",
        "id": "backgroundColor"
       }
      },
      "id": "57840c6f-ac35-4f6e-a034-e959121dd754",
      "palette": {
       "backgroundColor": {
        "id": "backgroundColor",
        "rgb": [
         34,
         34,
         34
        ]
       },
       "headingColor": {
        "id": "headingColor",
        "rgb": [
         238,
         238,
         238
        ]
       },
       "linkColor": {
        "id": "linkColor",
        "rgb": [
         170,
         34,
         51
        ]
       },
       "mainColor": {
        "id": "mainColor",
        "rgb": [
         238,
         238,
         238
        ]
       }
      },
      "rules": {
       "a": {
        "color": "linkColor"
       },
       "h1": {
        "color": "headingColor",
        "font-family": "Ubuntu",
        "font-size": 7
       },
       "h2": {
        "color": "headingColor",
        "font-family": "Ubuntu",
        "font-size": 5
       },
       "h3": {
        "color": "headingColor",
        "font-family": "Ubuntu",
        "font-size": 3.75
       },
       "h4": {
        "color": "headingColor",
        "font-family": "Ubuntu",
        "font-size": 3
       },
       "h5": {
        "color": "headingColor",
        "font-family": "Ubuntu"
       },
       "h6": {
        "color": "headingColor",
        "font-family": "Ubuntu"
       },
       "h7": {
        "color": "headingColor",
        "font-family": "Ubuntu"
       },
       "li": {
        "color": "mainColor",
        "font-family": "Ubuntu",
        "font-size": 5
       },
       "p": {
        "color": "mainColor",
        "font-family": "Ubuntu",
        "font-size": 5
       }
      },
      "text-base": {
       "color": "mainColor",
       "font-family": "Ubuntu",
       "font-size": 5
      }
     },
     "63eaae6d-7d56-4a55-8b0e-7632ba48558d": {
      "backgrounds": {
       "backgroundColor": {
        "background-color": "backgroundColor",
        "id": "backgroundColor"
       }
      },
      "id": "63eaae6d-7d56-4a55-8b0e-7632ba48558d",
      "palette": {
       "backgroundColor": {
        "id": "backgroundColor",
        "rgb": [
         34,
         34,
         34
        ]
       },
       "headingColor": {
        "id": "headingColor",
        "rgb": [
         238,
         238,
         238
        ]
       },
       "linkColor": {
        "id": "linkColor",
        "rgb": [
         170,
         34,
         51
        ]
       },
       "mainColor": {
        "id": "mainColor",
        "rgb": [
         238,
         238,
         238
        ]
       }
      },
      "rules": {
       "a": {
        "color": "linkColor"
       },
       "h1": {
        "color": "headingColor",
        "font-family": "Ubuntu",
        "font-size": 7
       },
       "h2": {
        "color": "headingColor",
        "font-family": "Ubuntu",
        "font-size": 5
       },
       "h3": {
        "color": "headingColor",
        "font-family": "Ubuntu",
        "font-size": 3.75
       },
       "h4": {
        "color": "headingColor",
        "font-family": "Ubuntu",
        "font-size": 3
       },
       "h5": {
        "color": "headingColor",
        "font-family": "Ubuntu"
       },
       "h6": {
        "color": "headingColor",
        "font-family": "Ubuntu"
       },
       "h7": {
        "color": "headingColor",
        "font-family": "Ubuntu"
       },
       "li": {
        "color": "mainColor",
        "font-family": "Ubuntu",
        "font-size": 5
       },
       "p": {
        "color": "mainColor",
        "font-family": "Ubuntu",
        "font-size": 5
       }
      },
      "text-base": {
       "color": "mainColor",
       "font-family": "Ubuntu",
       "font-size": 5
      }
     },
     "87778808-5359-4763-9f88-ead6815715bd": {
      "id": "87778808-5359-4763-9f88-ead6815715bd",
      "palette": {
       "19cc588f-0593-49c9-9f4b-e4d7cc113b1c": {
        "id": "19cc588f-0593-49c9-9f4b-e4d7cc113b1c",
        "rgb": [
         252,
         252,
         252
        ]
       },
       "31af15d2-7e15-44c5-ab5e-e04b16a89eff": {
        "id": "31af15d2-7e15-44c5-ab5e-e04b16a89eff",
        "rgb": [
         68,
         68,
         68
        ]
       },
       "50f92c45-a630-455b-aec3-788680ec7410": {
        "id": "50f92c45-a630-455b-aec3-788680ec7410",
        "rgb": [
         155,
         177,
         192
        ]
       },
       "c5cc3653-2ee1-402a-aba2-7caae1da4f6c": {
        "id": "c5cc3653-2ee1-402a-aba2-7caae1da4f6c",
        "rgb": [
         43,
         126,
         184
        ]
       },
       "efa7f048-9acb-414c-8b04-a26811511a21": {
        "id": "efa7f048-9acb-414c-8b04-a26811511a21",
        "rgb": [
         25.118061674008803,
         73.60176211453744,
         107.4819383259912
        ]
       }
      },
      "rules": {
       "blockquote": {
        "color": "50f92c45-a630-455b-aec3-788680ec7410"
       },
       "code": {
        "font-family": "Anonymous Pro"
       },
       "h1": {
        "color": "c5cc3653-2ee1-402a-aba2-7caae1da4f6c",
        "font-family": "Lato",
        "font-size": 8
       },
       "h2": {
        "color": "c5cc3653-2ee1-402a-aba2-7caae1da4f6c",
        "font-family": "Lato",
        "font-size": 6
       },
       "h3": {
        "color": "50f92c45-a630-455b-aec3-788680ec7410",
        "font-family": "Lato",
        "font-size": 5.5
       },
       "h4": {
        "color": "c5cc3653-2ee1-402a-aba2-7caae1da4f6c",
        "font-family": "Lato",
        "font-size": 5
       },
       "h5": {
        "font-family": "Lato"
       },
       "h6": {
        "font-family": "Lato"
       },
       "h7": {
        "font-family": "Lato"
       },
       "pre": {
        "font-family": "Anonymous Pro",
        "font-size": 4
       }
      },
      "text-base": {
       "font-family": "Merriweather",
       "font-size": 4
      }
     }
    }
   }
  }
 },
 "nbformat": 4,
 "nbformat_minor": 0
}
